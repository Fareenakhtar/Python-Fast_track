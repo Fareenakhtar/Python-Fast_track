{
 "cells": [
  {
   "cell_type": "markdown",
   "metadata": {
    "id": "k_BbqQuOiFL4"
   },
   "source": [
    "**Fareen_201046038_Sample_2**"
   ]
  },
  {
   "cell_type": "markdown",
   "metadata": {
    "id": "m3jLB073-M3L"
   },
   "source": [
    "**Lists**"
   ]
  },
  {
   "cell_type": "code",
   "execution_count": null,
   "metadata": {
    "colab": {
     "base_uri": "https://localhost:8080/"
    },
    "id": "I0BPWwqau3vZ",
    "outputId": "9c94efeb-f4bc-4c3e-8e39-3e80898c141f"
   },
   "outputs": [
    {
     "name": "stdout",
     "output_type": "stream",
     "text": [
      "The largest number in the list is:  9\n"
     ]
    }
   ],
   "source": [
    "#1.Python Program to Find the Largest Number in a List \n",
    "\n",
    "Li=[1,3,4,9,8,5]\n",
    "print(\"The largest number in the list is: \",max(Li))"
   ]
  },
  {
   "cell_type": "code",
   "execution_count": null,
   "metadata": {
    "colab": {
     "base_uri": "https://localhost:8080/"
    },
    "id": "YZxwViM8wAAG",
    "outputId": "8ad90965-cd0d-488b-d7bf-04fe93bf092a"
   },
   "outputs": [
    {
     "name": "stdout",
     "output_type": "stream",
     "text": [
      "The second largest number in the list is:  6\n"
     ]
    }
   ],
   "source": [
    "#2.Python Program to Find the Second Largest Number in a List \n",
    "\n",
    "Li=[1,2,6,9,0,2,3]\n",
    "Li.sort()\n",
    "print(\"The second largest number in the list is: \",Li[-2])"
   ]
  },
  {
   "cell_type": "code",
   "execution_count": null,
   "metadata": {
    "colab": {
     "base_uri": "https://localhost:8080/"
    },
    "id": "1eDYdS2LwHNx",
    "outputId": "e8628248-1120-4520-d038-7a8f80e33ae3"
   },
   "outputs": [
    {
     "name": "stdout",
     "output_type": "stream",
     "text": [
      "The given List is:  [1, 1, 2, 2, 3, 3, 4, 6, 9]\n",
      "The List with even value is:  [2, 2, 4, 6]\n",
      "The list with odd value is:  [1, 1, 3, 3, 9]\n"
     ]
    }
   ],
   "source": [
    "#3. Python Program to Put Even and Odd elements in a List into Two Different Lists. \n",
    "Li=[1,3,2,6,3,4,9,1,2]\n",
    "Li.sort()\n",
    "even=[]\n",
    "odd=[]\n",
    "for i in Li:\n",
    "    if(i%2==0):\n",
    "        even.append(i)\n",
    "    else:\n",
    "        odd.append(i)\n",
    "print(\"The given List is: \",Li)\n",
    "print(\"The List with even value is: \",even)\n",
    "print(\"The list with odd value is: \",odd)"
   ]
  },
  {
   "cell_type": "code",
   "execution_count": null,
   "metadata": {
    "colab": {
     "base_uri": "https://localhost:8080/"
    },
    "id": "A04Mqe6lwPkW",
    "outputId": "89e1347b-38af-4dda-89ec-985d29273ec4"
   },
   "outputs": [
    {
     "name": "stdout",
     "output_type": "stream",
     "text": [
      "Enter the elements seperated by space1 2 3 4 5\n",
      "Enter the elements seperated by space4  5 6 7 8\n",
      "[1, 2, 3, 4, 5]\n",
      "[4, 5, 6, 7, 8]\n",
      "The given two lists are different\n"
     ]
    }
   ],
   "source": [
    "#4. Python Program to check whether two lists are same. \n",
    "a=input(\"Enter the elements seperated by space\")\n",
    "b=input(\"Enter the elements seperated by space\")\n",
    "List1=a.split()\n",
    "List2=b.split()\n",
    "\n",
    "l1=[]\n",
    "l2=[]\n",
    "for n in List1:\n",
    "    l1.append(int(n))\n",
    "for n in List2:\n",
    "    l2.append(int(n))\n",
    "print(l1)\n",
    "print(l2)\n",
    "l1.sort()\n",
    "l2.sort()\n",
    "for i1 in l1:\n",
    "    for i2 in l2:\n",
    "        Flage=0\n",
    "        if(i1!=i2):\n",
    "            Flag=0\n",
    "            exit()\n",
    "        else:\n",
    "            Flag=1\n",
    "if(Flag==1):\n",
    "    print(\"The given two lists are same\")\n",
    "else:\n",
    "    print(\"The given two lists are different\")"
   ]
  },
  {
   "cell_type": "code",
   "execution_count": null,
   "metadata": {
    "colab": {
     "base_uri": "https://localhost:8080/"
    },
    "id": "bTaRrRb2we-T",
    "outputId": "571f2fe5-e048-4eee-806b-d2528850c1b5"
   },
   "outputs": [
    {
     "name": "stdout",
     "output_type": "stream",
     "text": [
      "Enter the element for list1 seperated by space: 1 2 3 4\n",
      "Enter the element for list2 seperated by space: 3 4 5 6\n",
      "The union of the given two list:  [1, 2, 3, 4, 5, 6]\n"
     ]
    }
   ],
   "source": [
    "#5. Python Program to Find the Union of Lists. \n",
    "a=input(\"Enter the element for list1 seperated by space: \")\n",
    "b=input(\"Enter the element for list2 seperated by space: \")\n",
    "#to split the given values\n",
    "List1=a.split()\n",
    "List2=b.split()\n",
    "#creating new lists\n",
    "L1=[]\n",
    "L2=[]\n",
    "#changing the value from str to int\n",
    "for n in List1:\n",
    "  L1.append(int(n))\n",
    "for n in List2:\n",
    "  L2.append(int(n))\n",
    "#sorting it in ascending order\n",
    "L1.sort()\n",
    "L2.sort()\n",
    "#combining two lists\n",
    "Lu=list(set().union(L1,L2))\n",
    "#printing the list\n",
    "print(\"The union of the given two list: \",Lu)"
   ]
  },
  {
   "cell_type": "code",
   "execution_count": null,
   "metadata": {
    "colab": {
     "base_uri": "https://localhost:8080/"
    },
    "id": "C02z5j7tw9SR",
    "outputId": "96253351-6a0e-472f-84e6-ca31938a74b2"
   },
   "outputs": [
    {
     "name": "stdout",
     "output_type": "stream",
     "text": [
      "Enter the element for list1 seperated by space: 1 2 3\n",
      "Enter the element for list2 seperated by space: 2 3 4\n",
      "The intersection of the given lists:  [2, 3]\n"
     ]
    }
   ],
   "source": [
    "#6. Python Program to Find the Intersection of Lists \n",
    "a=input(\"Enter the element for list1 seperated by space: \")\n",
    "b=input(\"Enter the element for list2 seperated by space: \")\n",
    "\n",
    "List1=a.split()\n",
    "List2=b.split()\n",
    "L1=[]\n",
    "L2=[]\n",
    "for n in List1:\n",
    "  L1.append(int(n))\n",
    "for n in List2:\n",
    "  L2.append(int(n))\n",
    "L1.sort()\n",
    "L2.sort()\n",
    "a=[]\n",
    "b=0\n",
    "Li=[]\n",
    "#to get the intersection of two lists\n",
    "for n1 in L1:\n",
    "    for n2 in L2:\n",
    "        if n1==n2:\n",
    "            if n1 in Li:\n",
    "                continue\n",
    "            Li.append(n1)\n",
    "print(\"The intersection of the given lists: \",Li)\n"
   ]
  },
  {
   "cell_type": "code",
   "execution_count": null,
   "metadata": {
    "colab": {
     "base_uri": "https://localhost:8080/"
    },
    "id": "Q4BcXI8gxxBc",
    "outputId": "6d70e1bc-1a2b-4849-a62d-5e589180ec46"
   },
   "outputs": [
    {
     "name": "stdout",
     "output_type": "stream",
     "text": [
      "Enter the element for list1 seperated by space: 1 1 2 3 4\n",
      "Enter the element for list2 seperated by space: 1 1 2 3 4 5 6\n",
      "The union of the given two list:  [1, 2, 3, 4, 5, 6]\n",
      "The intersection of the given lists:  [1, 2, 3, 4]\n"
     ]
    }
   ],
   "source": [
    "#7. Python Program to find union and intersection of lists without repetition. \n",
    "a=input(\"Enter the element for list1 seperated by space: \")\n",
    "b=input(\"Enter the element for list2 seperated by space: \")\n",
    "#to split the given values\n",
    "List1=a.split()\n",
    "List2=b.split()\n",
    "#creating new lists\n",
    "L1=[]\n",
    "L2=[]\n",
    "#changing the value from str to int\n",
    "for n in List1:\n",
    "  L1.append(int(n))\n",
    "for n in List2:\n",
    "  L2.append(int(n))\n",
    "#sorting it in ascending order\n",
    "L1.sort()\n",
    "L2.sort()\n",
    "#combining two lists\n",
    "Lu=list(set().union(L1,L2))\n",
    "#printing the list\n",
    "print(\"The union of the given two list: \",Lu)\n",
    "\n",
    "Li=[]\n",
    "#to get the intersection of two lists\n",
    "for n1 in L1:\n",
    "    for n2 in L2:\n",
    "        if n1==n2:\n",
    "            if n1 in Li:\n",
    "                continue\n",
    "            Li.append(n1)\n",
    "print(\"The intersection of the given lists: \",Li)"
   ]
  },
  {
   "cell_type": "code",
   "execution_count": null,
   "metadata": {
    "colab": {
     "base_uri": "https://localhost:8080/"
    },
    "id": "Y43bDLJfyDAd",
    "outputId": "a2e1beb5-5e17-4dc5-d946-3d72812941f9"
   },
   "outputs": [
    {
     "name": "stdout",
     "output_type": "stream",
     "text": [
      "Enter the lower range:1 \n",
      "Enter the upper range:10\n",
      "[(1, 1), (2, 4), (3, 9), (4, 16), (5, 25), (6, 36), (7, 49), (8, 64), (9, 81), (10, 100)]\n"
     ]
    }
   ],
   "source": [
    "#8. Python Program to Create a List of Tuples with the \n",
    "#First Element as the Number and Second Element as the Square of the Number. \n",
    "l_value=int(input(\"Enter the lower range:\"))\n",
    "u_value=int(input(\"Enter the upper range:\"))\n",
    "a=[(x,x**2) for x in range(l_value,u_value+1)]\n",
    "print(a)\n",
    "    "
   ]
  },
  {
   "cell_type": "code",
   "execution_count": null,
   "metadata": {
    "colab": {
     "base_uri": "https://localhost:8080/",
     "height": 50
    },
    "id": "RVHWGnagyP0t",
    "outputId": "39e7269c-13fc-4eae-9beb-c84c326f6a0e"
   },
   "outputs": [
    {
     "name": "stdout",
     "output_type": "stream",
     "text": [
      "Enter the element for list1 seperated by space: 1 1 2 1 1 3 4 5 4 4 5 6\n",
      "[1 2 3 4 5 6]\n"
     ]
    }
   ],
   "source": [
    "#9. Python Program to Remove the Duplicate Items from a List. \n",
    "import numpy as np\n",
    "a=input(\"Enter the element for list1 seperated by space: \")\n",
    "#to split the given values\n",
    "List1=a.split()\n",
    "#creating new lists\n",
    "L1=[]\n",
    "#changing the value from str to int\n",
    "for n in List1:\n",
    "  L1.append(int(n))\n",
    "l2=np.unique(L1)\n",
    "print(l2)"
   ]
  },
  {
   "cell_type": "code",
   "execution_count": null,
   "metadata": {
    "colab": {
     "base_uri": "https://localhost:8080/",
     "height": 50
    },
    "id": "U5SLMrfdygmz",
    "outputId": "455eab48-ed17-4714-bae7-0d1b7188cca4"
   },
   "outputs": [
    {
     "name": "stdout",
     "output_type": "stream",
     "text": [
      "Enter the element for list1 seperated by space: Fardeen Fareen Arhan\n",
      "7\n"
     ]
    }
   ],
   "source": [
    "#10. Python Program to Read a List of Words and Return the Length of the Longest One.\n",
    "\n",
    "a=input(\"Enter the element for list1 seperated by space: \")\n",
    "#to split the given values\n",
    "List1=a.split()\n",
    "#creating new lists\n",
    "L1=[]\n",
    "#changing the value from str to int\n",
    "for n in List1:\n",
    "  L1.append(n)\n",
    "\n",
    "a1=0\n",
    "\n",
    "for x in L1:\n",
    "  if len(x)>a1:\n",
    "    a1=len(x)\n",
    "print(a1)\n",
    "\n",
    "\n",
    "\n"
   ]
  },
  {
   "cell_type": "markdown",
   "metadata": {
    "id": "Qd0CP6gd-HBK"
   },
   "source": [
    "**Dictionary**"
   ]
  },
  {
   "cell_type": "code",
   "execution_count": null,
   "metadata": {
    "colab": {
     "base_uri": "https://localhost:8080/",
     "height": 50
    },
    "id": "OkrqHH3z9-1W",
    "outputId": "3aa637a8-7285-4c67-b8a4-c77e67843eaa"
   },
   "outputs": [
    {
     "name": "stdout",
     "output_type": "stream",
     "text": [
      "My dictionary is:  {'name': 'Fareen', 'class': 'BDS', 'dept': 'BDS'}\n",
      "My tiny dictionary is:  {'college': 'MSIS', 'Location': 'Manipal'}\n"
     ]
    }
   ],
   "source": [
    "#1. Python Program to Add a Key-Value Pair to the Dictionary\n",
    "\n",
    "dict={}\n",
    "dict['name']=\"Fareen\"\n",
    "dict['class']=\"BDS\"\n",
    "dict['dept']=\"BDS\"\n",
    "print(\"My dictionary is: \",dict)\n",
    "tiny_dict={'college':'MSIS','Location':'Manipal'}\n",
    "print(\"My tiny dictionary is: \",tiny_dict)"
   ]
  },
  {
   "cell_type": "code",
   "execution_count": null,
   "metadata": {
    "colab": {
     "base_uri": "https://localhost:8080/",
     "height": 34
    },
    "id": "MUxAYMxbUY2p",
    "outputId": "8100316e-899c-4ef0-d6a3-dda062f46cad"
   },
   "outputs": [
    {
     "name": "stdout",
     "output_type": "stream",
     "text": [
      "{'name': 'Fareen', 'class': 'BDS', 'dept': 'BDS', 'college': 'MSIS', 'Location': 'Manipal'}\n"
     ]
    }
   ],
   "source": [
    "#2. Python Program to Concatenate Two Dictionaries Into One \n",
    "\n",
    "dict={'name': 'Fareen', 'class': 'BDS', 'dept': 'BDS'}\n",
    "tiny_dict={'college': 'MSIS', 'Location': 'Manipal'}\n",
    "dict.update(tiny_dict)\n",
    "print(dict)"
   ]
  },
  {
   "cell_type": "code",
   "execution_count": null,
   "metadata": {
    "colab": {
     "base_uri": "https://localhost:8080/",
     "height": 34
    },
    "id": "o9VcTPa0XEq_",
    "outputId": "68d9517b-4e7c-4d49-f7c5-b15fc4efdca5"
   },
   "outputs": [
    {
     "name": "stdout",
     "output_type": "stream",
     "text": [
      "The given key is present in the dictionary!!\n"
     ]
    }
   ],
   "source": [
    "#3. Python Program to Check if a Given Key Exists in a Dictionary or Not \n",
    "def func(n):\n",
    "  dict1={1:'orange',2:'apple',3:'pineapple'}\n",
    "  dict2={4:'kiwi',5:'melon'}\n",
    "  dict1.update(dict2)\n",
    "  Flag=0\n",
    "  for x in dict1.keys():\n",
    "    if x==n:\n",
    "      Flag=1\n",
    "  if Flag==1:\n",
    "    print(\"The given key is present in the dictionary!!\")\n",
    "  else:\n",
    "    print(\"Not present!!\")  \n",
    "\n",
    "  \n",
    "func(4)"
   ]
  },
  {
   "cell_type": "code",
   "execution_count": null,
   "metadata": {
    "colab": {
     "base_uri": "https://localhost:8080/",
     "height": 50
    },
    "id": "-JcV6P8VYBKl",
    "outputId": "0312a48b-56ad-4aca-be07-805182345f54"
   },
   "outputs": [
    {
     "name": "stdout",
     "output_type": "stream",
     "text": [
      "Enter a number:5\n",
      "{1: 1, 2: 4, 3: 9, 4: 16, 5: 25}\n"
     ]
    }
   ],
   "source": [
    "#4. Python Program to Generate a Dictionary that Contains Numbers (between 1 and n) in the Form (x,x*x). \n",
    "\n",
    "num=int(input(\"Enter a number:\"))\n",
    "dict1={x:x*x for x in range(1,num+1)}\n",
    "print(dict1)"
   ]
  },
  {
   "cell_type": "code",
   "execution_count": null,
   "metadata": {
    "colab": {
     "base_uri": "https://localhost:8080/",
     "height": 34
    },
    "id": "ocAjX7h6cy_n",
    "outputId": "6a939d80-ff8b-4a2d-b809-c38677739edb"
   },
   "outputs": [
    {
     "name": "stdout",
     "output_type": "stream",
     "text": [
      "The sum of all the items in the dictionary is:  246\n"
     ]
    }
   ],
   "source": [
    "#5. Python Program to Sum All the Items in a Dictionary \n",
    "\n",
    "dic1={'English':80,'Math':87,'Computer':79}\n",
    "sum=0\n",
    "for x in dic1.values():\n",
    "  sum+=x\n",
    "print(\"The sum of all the items in the dictionary is: \",sum)"
   ]
  },
  {
   "cell_type": "code",
   "execution_count": null,
   "metadata": {
    "colab": {
     "base_uri": "https://localhost:8080/",
     "height": 34
    },
    "id": "doIMvR52d4YE",
    "outputId": "c14f8a17-c60c-44ad-8d8b-8dcadf0198e4"
   },
   "outputs": [
    {
     "name": "stdout",
     "output_type": "stream",
     "text": [
      "The value after multiplication of all the items:  1472580\n"
     ]
    }
   ],
   "source": [
    "#6. Python Program to Multiply All the Items in a Dictionary \n",
    "def multi(dic1):\n",
    "  mul=1\n",
    "  for x in dic1.values():\n",
    "    mul*=x\n",
    "  print(\"The value after multiplication of all the items: \",mul)\n",
    "\n",
    "multi({'a':180,'b':81,'c':101})"
   ]
  },
  {
   "cell_type": "code",
   "execution_count": null,
   "metadata": {
    "colab": {
     "base_uri": "https://localhost:8080/",
     "height": 67
    },
    "id": "KUgUgQLtffpM",
    "outputId": "7e9e9846-3661-4f16-b46f-9b53743c1705"
   },
   "outputs": [
    {
     "name": "stdout",
     "output_type": "stream",
     "text": [
      "The given dictionary is:  {'a': 80, 'b': 40, 'c': 50}\n",
      "The key to be deleted is:  c\n",
      "Dictionary after deleting the given key:  {'a': 80, 'b': 40}\n"
     ]
    }
   ],
   "source": [
    "#7. Python Program to Remove the Given Key from a Dictionary \n",
    "\n",
    "def rem(dic1,k):\n",
    "  print(\"The given dictionary is: \",dic1)\n",
    "  print(\"The key to be deleted is: \",k)\n",
    "  Flag=0\n",
    "\n",
    "  if k in dic1:\n",
    "    del(dic1[k])\n",
    "    Flag=1\n",
    "\n",
    "  if Flag==1:\n",
    "    print(\"Dictionary after deleting the given key: \",dic1)\n",
    "  else:\n",
    "    print(\"The given key isnt present in dictionary!!\")\n",
    "\n",
    "\n",
    "\n",
    "rem({'a':80,'b':40,'c':50},'c')"
   ]
  },
  {
   "cell_type": "code",
   "execution_count": null,
   "metadata": {
    "colab": {
     "base_uri": "https://localhost:8080/",
     "height": 34
    },
    "id": "d9o-X3DAjfxb",
    "outputId": "5272a345-31df-42d5-d606-c8f34162216e"
   },
   "outputs": [
    {
     "name": "stdout",
     "output_type": "stream",
     "text": [
      "True\n"
     ]
    }
   ],
   "source": [
    "#8. Write a function is_empty(my_dict) that takes a dictionary my_dict and \n",
    "#returns True if my_dict is empty and False otherwise. \n",
    "\n",
    "def is_empty(my_dict):\n",
    "  \n",
    "  l=len(my_dict)\n",
    "  if l==0:\n",
    "    print(\"True\")\n",
    "  else:\n",
    "    print(\"False\")\n",
    "\n",
    "is_empty({})"
   ]
  },
  {
   "cell_type": "code",
   "execution_count": null,
   "metadata": {
    "colab": {
     "base_uri": "https://localhost:8080/",
     "height": 34
    },
    "id": "zEPge_n2mGF5",
    "outputId": "24815be3-76e7-4036-e990-52b53e1c27a3"
   },
   "outputs": [
    {
     "data": {
      "text/plain": [
       "{'a': [10], 'b': [20], 'c': [30], 'd': [40]}"
      ]
     },
     "execution_count": 166,
     "metadata": {
      "tags": []
     },
     "output_type": "execute_result"
    }
   ],
   "source": [
    "#9. Write a function make_dict(key_value_list) that takes a list of tuples key_value_list \n",
    "#where each tuple is of the form (key, value) and returns a dictionary with these keys and corresponding values. \n",
    "\n",
    "def make_dict(key_value_list):\n",
    "  tup1=key_value_list\n",
    "  dict1={}\n",
    "  for a,b in tup1:\n",
    "    dict1.setdefault(a,[]).append(b)\n",
    "  return dict1\n",
    "  \n",
    "\n",
    "make_dict((('a',10),('b',20),('c',30),('d',40)))"
   ]
  },
  {
   "cell_type": "code",
   "execution_count": null,
   "metadata": {
    "colab": {
     "base_uri": "https://localhost:8080/",
     "height": 34
    },
    "id": "fJb53ejPqH2d",
    "outputId": "ee9722b3-d474-4e4a-a115-fa13967d05f0"
   },
   "outputs": [
    {
     "name": "stdout",
     "output_type": "stream",
     "text": [
      "km \n"
     ]
    }
   ],
   "source": [
    "#10. A simple substitution cipher is an encryption scheme where each letter in an alphabet to replaced by a \n",
    "#different letter in the same alphabet with the restriction that each letter's replacement is unique. \n",
    "#The template for this question contains an example of a substitution cipher represented a dictionary \n",
    "#CIPHER_DICTIONARY. Your task is to write a function encrypt(phrase,cipher_dict) that takes \n",
    "#a string phrase and a dictionary cipher_dict and returns the results of replacing each character in phrase \n",
    "#by its corresponding value in cipher_dict. \n",
    "\n",
    "#encrypt(\"cat\", CIPHER_DICT) should return ”km “ \n",
    "\n",
    "\n",
    "CIPHER_DICT = {'e': 'u', 'b': 's', 'k': 'x', 'u': 'q', 'y': 'c', 'm': 'w', 'o': 'y', 'g': 'f',\n",
    "'a': 'm', 'x': 'j', 'l': 'n', 's': 'o', 'r': 'g', 'i': 'i', 'j': 'z', 'c': 'k', 'f': 'p', ' ': 'b', 'q': 'r',\n",
    "'z': 'e', 'p': 'v', 'v': 'l', 'h': 'h', 'd': 'd', 'n': 'a', 't': ' ', 'w': 't'} \n",
    "\n",
    "def encrypt(phrase,cipher_dict):\n",
    "  a=''\n",
    "  for x in phrase:\n",
    "    if cipher_dict.get(x):\n",
    "      a+=cipher_dict[x]\n",
    "  print(a)\n",
    "\n",
    "encrypt(\"cat\",CIPHER_DICT)\n",
    "    \n",
    "  \n"
   ]
  },
  {
   "cell_type": "code",
   "execution_count": null,
   "metadata": {
    "colab": {
     "base_uri": "https://localhost:8080/",
     "height": 34
    },
    "id": "1fULDYwZuI0y",
    "outputId": "8db8a2f0-9af8-41a1-bbb4-fecff0e5ce48"
   },
   "outputs": [
    {
     "name": "stdout",
     "output_type": "stream",
     "text": [
      "[' ', 'k', 'm']\n"
     ]
    }
   ],
   "source": [
    "#11. Write a function make_cipher_dict(alphabet) that takes a string of unique \n",
    "#characters and returns a randomly-generated cipher dictionary for the characters in alphabet. \n",
    "#You should use the shuffle() method \n",
    "#in the random module to ensure that your returned cipher dictionary is random. \n",
    "\n",
    "import random\n",
    "def make_cipher_dict(alphabet):\n",
    "  CIPHER_DICT = {'e': 'u', 'b': 's', 'k': 'x', 'u': 'q', 'y': 'c', 'm': 'w', 'o': 'y', 'g': 'f',\n",
    "  'a': 'm', 'x': 'j', 'l': 'n', 's': 'o', 'r': 'g', 'i': 'i', 'j': 'z', 'c': 'k', 'f': 'p', ' ': 'b', 'q': 'r',\n",
    "  'z': 'e', 'p': 'v', 'v': 'l', 'h': 'h', 'd': 'd', 'n': 'a', 't': ' ', 'w': 't'}\n",
    "  a=''\n",
    "  for x in alphabet:\n",
    "    if CIPHER_DICT.get(x):\n",
    "      a+=CIPHER_DICT[x]\n",
    "  l=[]\n",
    "  for n in a:\n",
    "    l.append(n)\n",
    "  random.shuffle(l)\n",
    "  print(l)\n",
    "  \n",
    "make_cipher_dict('cat')\n",
    "\n"
   ]
  },
  {
   "cell_type": "code",
   "execution_count": null,
   "metadata": {
    "colab": {
     "base_uri": "https://localhost:8080/",
     "height": 218
    },
    "id": "02sKXHe6uUmF",
    "outputId": "9dc6be5f-de48-41fa-d7c7-e5901ca003d0"
   },
   "outputs": [
    {
     "name": "stdout",
     "output_type": "stream",
     "text": [
      "The marks of the students: \n",
      "[['English', 80], ['Math', 75], ['Computer', 83], ['Physics', 79], ['Chemistry', 65]]\n",
      "[['English', 50], ['Math', 40], ['Computer', 73], ['Physics', 59], ['Chemistry', 62]]\n",
      "[['English', 60], ['Math', 59], ['Computer', 93], ['Physics', 99], ['Chemistry', 61]]\n",
      "[['English', 79], ['Math', 89], ['Computer', 86], ['Physics', 89], ['Chemistry', 72]]\n",
      "\n",
      "\n",
      "The respective grades of the students:\n",
      "[['English', 'A'], ['Math', 'B'], ['Computer', 'A'], ['Physics', 'B'], ['Chemistry', 'C']]\n",
      "[['English', 'D'], ['Math', 'F'], ['Computer', 'B'], ['Physics', 'D'], ['Chemistry', 'C']]\n",
      "[['English', 'C'], ['Math', 'D'], ['Computer', 'A+'], ['Physics', 'A+'], ['Chemistry', 'C']]\n",
      "[['English', 'B'], ['Math', 'A'], ['Computer', 'A'], ['Physics', 'A'], ['Chemistry', 'B']]\n"
     ]
    }
   ],
   "source": [
    "#12. Write a python code to generate grade using dictionary. Dictionary should have \n",
    "#student names as keys (assuming names are unique) and subject_name and mark as value. \n",
    "#There are 5 subjects for each student. Marks should be converted to grades (90 – 100 A+, 80-89 A etc). \n",
    "\n",
    "dict={'Anusha':[['English',80],['Math',75],['Computer',83],['Physics',79],['Chemistry',65]],\n",
    "      'Aman':[['English',50],['Math',40],['Computer',73],['Physics',59],['Chemistry',62]],\n",
    "      'Rohan':[['English',60],['Math',59],['Computer',93],['Physics',99],['Chemistry',61]],\n",
    "      'Riya':[['English',79],['Math',89],['Computer',86],['Physics',89],['Chemistry',72]]}\n",
    "print(\"The marks of the students: \")\n",
    "for n in dict:\n",
    "  print(dict[n])\n",
    "\n",
    "for i in dict:\n",
    "  for j in range(5):\n",
    "    if ((dict[i][j][1])>= 90 and (dict[i][j][1])<=100):\n",
    "      dict[i][j][1]='A+'\n",
    "    elif ((dict[i][j][1])>=80 and (dict[i][j][1])<90):\n",
    "      dict[i][j][1]='A'\n",
    "    elif ((dict[i][j][1])>=70 and (dict[i][j][1])<80):\n",
    "      dict[i][j][1]='B'\n",
    "    elif ((dict[i][j][1])>=60 and (dict[i][j][1])<70):\n",
    "      dict[i][j][1]='C'\n",
    "    elif ((dict[i][j][1])>=50 and (dict[i][j][1])<60):\n",
    "      dict[i][j][1]='D'\n",
    "    else:\n",
    "      dict[i][j][1]='F'\n",
    "    \n",
    "print(\"\\n\\nThe respective grades of the students:\")\n",
    "for n in dict:\n",
    "  print(dict[n])\n",
    "\n",
    "\n",
    "      "
   ]
  }
 ],
 "metadata": {
  "colab": {
   "collapsed_sections": [],
   "name": "Fareen_201046038_Sample_2.ipynb",
   "provenance": []
  },
  "kernelspec": {
   "display_name": "Python 3",
   "language": "python",
   "name": "python3"
  },
  "language_info": {
   "codemirror_mode": {
    "name": "ipython",
    "version": 3
   },
   "file_extension": ".py",
   "mimetype": "text/x-python",
   "name": "python",
   "nbconvert_exporter": "python",
   "pygments_lexer": "ipython3",
   "version": "3.8.5"
  }
 },
 "nbformat": 4,
 "nbformat_minor": 1
}
