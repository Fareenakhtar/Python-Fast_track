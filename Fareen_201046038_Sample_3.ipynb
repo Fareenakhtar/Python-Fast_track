{
 "cells": [
  {
   "cell_type": "markdown",
   "metadata": {
    "id": "vI03wpSyi90U"
   },
   "source": [
    "**Fareen_201046038_Sample_3**"
   ]
  },
  {
   "cell_type": "markdown",
   "metadata": {
    "id": "GtevtU_OLoJq"
   },
   "source": [
    "**I have done the programs from 1 to 12 in python Idle which I have shared with this file.**"
   ]
  },
  {
   "cell_type": "markdown",
   "metadata": {
    "id": "XhXSUFnNidMh"
   },
   "source": [
    "# 1. Write a program cat.py that takes a filename as command-line argument and prints all the contents of that file. \n",
    "\n",
    "done in python idle\n",
    "\n",
    "\n",
    "OUTPUT:\n",
    "\n",
    "C:\\FAST_TRACT_COURSE\\Fareen_201046038_Sample_3\\Fareen_201046038_Sample_3_soln>cat.py cat.csv\n",
    "Number of arguments  2  arguments.\n",
    "Argument List: ['C:\\\\FAST_TRACT_COURSE\\\\Fareen_201046038_Sample_3\\\\Fareen_201046038_Sample_3_soln\\\\cat.py', 'cat.csv']\n",
    "Slno,name,height\n",
    "\n",
    "1,Abyssinian,8inches\n",
    "\n",
    "2,American_Shorthair,8inches\n",
    "\n",
    "3,British_Shorthair,12inches\n",
    "\n",
    "\n"
   ]
  },
  {
   "cell_type": "markdown",
   "metadata": {
    "id": "JDwbKWSejPWk"
   },
   "source": [
    "# 2. Write a program wc.py that takes filename as argument and counts number of lines, words and chars in file.\n",
    "\n",
    "#done in python idle\n",
    "\n",
    "OUTPUT:\n",
    "\n",
    "C:\\FAST_TRACT_COURSE\\Fareen_201046038_Sample_3\\Fareen_201046038_Sample_3_soln>wc.py\n",
    "\n",
    "Total charectors are:  96\n",
    "\n",
    "Total words are:  12\n",
    "\n",
    "Total lines are:  4\n"
   ]
  },
  {
   "cell_type": "markdown",
   "metadata": {
    "id": "-e_A5y-ljTYp"
   },
   "source": [
    "# 3. Write a program head.py that takes a filename as command-line argument and prints the first 5 lines of it. \n",
    "\n",
    "#done in python idle\n",
    "\n",
    "OUTPUT:\n",
    "\n",
    "\n",
    "C:\\FAST_TRACT_COURSE\\Fareen_201046038_Sample_3\\Fareen_201046038_Sample_3_soln>head.py head.txt\n",
    "\n",
    "Number of arguments  2  arguments.\n",
    "Argument List: ['C:\\\\FAST_TRACT_COURSE\\\\Fareen_201046038_Sample_3\\\\Fareen_201046038_Sample_3_soln\\\\head.py', 'head.txt']\n",
    "head.txt\n",
    "MSIS Manipal\n",
    "\n",
    "Mahe Manipal\n",
    "\n",
    "MIT Manipal\n",
    "\n",
    "Waksha Manipal\n",
    "\n",
    "Kasturba Medical College Manipal\n",
    "\n"
   ]
  },
  {
   "cell_type": "markdown",
   "metadata": {
    "id": "1GCw29k4jfm6"
   },
   "source": [
    "# 4. Write a program sumfile.py that takes a filename as argument and prints sum of all numbers in that file. \n",
    "#It is assumed that the file will only have one number in every line. \n",
    "\n",
    "#done in python idle\n",
    "\n",
    "OUTPUT:\n",
    "\n",
    "C:\\FAST_TRACT_COURSE\\Fareen_201046038_Sample_3\\Fareen_201046038_Sample_3_soln>sumfile.py sumfile.txt\n",
    "C:\\FAST_TRACT_COURSE\\Fareen_201046038_Sample_3\\Fareen_201046038_Sample_3_soln\\sumfile.txt\n",
    "The sum of the number is: 29.0"
   ]
  },
  {
   "cell_type": "markdown",
   "metadata": {
    "id": "hDHkPoo3jkSF"
   },
   "source": [
    "# 5. Write a program grep.py that takes a pattern and a filename as command-line argument and prints all the lines in the file that contain given pattern. (grep=global regular expression print)\n",
    "\n",
    " #done in python idle\n",
    " \n",
    " OUTPUT:\n",
    " \n",
    " C:\\FAST_TRACT_COURSE\\Fareen_201046038_Sample_3\\Fareen_201046038_Sample_3_soln>grep.py\n",
    " \n",
    "Enter file name:\n",
    "grep.txt\n",
    "\n",
    "Enter a pattern:\n",
    "far\n",
    "\n",
    "\n",
    "fareen\n",
    "\n",
    "fardeen\n",
    "\n",
    "farrrr\n",
    "\n",
    " "
   ]
  },
  {
   "cell_type": "markdown",
   "metadata": {
    "id": "KFmJfsy4jsDI"
   },
   "source": [
    "# 6. Write a program copyfile.py to copy one file to another. It should accept two filenames as command-line arguments and copies the first one into the second.\n",
    "\n",
    "#done in python idle\n",
    "\n",
    "OUTPUT:\n",
    "\n",
    "\n",
    "C:\\FAST_TRACT_COURSE\\Fareen_201046038_Sample_3\\Fareen_201046038_Sample_3_soln>copyfile.py  input.txt\n",
    "\n"
   ]
  },
  {
   "cell_type": "markdown",
   "metadata": {
    "id": "Kevm9WXHjx-i"
   },
   "source": [
    "# 7. Write a program ls.py that takes path to a directory as command-line argument and prints all the files in that directory. \n",
    "#When no argument is specified, it should list the files in the current directory.\n",
    "\n",
    "#done using python idle\n",
    "\n",
    "OUTPUT: \n",
    "\n",
    "C:\\FAST_TRACT_COURSE\\Fareen_201046038_Sample_3\\Fareen_201046038_Sample_3_soln>Is.py\n",
    "Enter folder path:\n",
    "C:\\FAST_TRACT_COURSE\\Fareen_201046038_Sample_3\\Fareen_201046038_Sample_3_soln\n",
    "\n",
    "['cat.csv', 'cat.py', 'cat.txt', 'copyfile.py', 'Fareen_201046038_Sample_3.ipynb', 'Fareen_201046038_Sample_3_(Ques_13_14_15_solved_here).rar', 'files-only.py', 'find-matching-files.py', 'grep.py', 'grep.txt', 'head.py', 'head.txt', 'input.txt', 'Is.py', 'large-files.py', 'largest-file.py', 'most-recent-file.py', 'output.txt', 'sumfile.py', 'sumfile.txt', 'wc.py']\n",
    "\n"
   ]
  },
  {
   "cell_type": "markdown",
   "metadata": {
    "id": "QXc5BQWlj2VN"
   },
   "source": [
    "# 8. Write a program largest-file.py to find the largest file in the given directory. The program should accept the directory name as command-line argument and print path to the file (not just filename).\n",
    "\n",
    "#done using python idle\n",
    "\n",
    "OUTPUT:\n",
    "\n",
    "\n",
    "C:\\FAST_TRACT_COURSE\\Fareen_201046038_Sample_3\\Fareen_201046038_Sample_3_soln>largest-file.py\n",
    "\n",
    "Enter folder path\n",
    "C:\\FAST_TRACT_COURSE\\Fareen_201046038_Sample_3\\Fareen_201046038_Sample_3_soln\n",
    "\n",
    "The largest file is: C:\\FAST_TRACT_COURSE\\Fareen_201046038_Sample_3\\Fareen_201046038_Sample_3_soln\\Fareen_201046038_Sample_3.ipynb\n",
    "Size: 8516 bytes\n"
   ]
  },
  {
   "cell_type": "markdown",
   "metadata": {
    "id": "e1Os5LKQj9S1"
   },
   "source": [
    "# 9. Write a program most-recent-file.py to find the most recently modified file in the given directory. \n",
    "#The program should accept the directory name as command-line argument and \n",
    "#print path to the file (not just filename) that is most recently modified file. \n",
    "\n",
    "#done using python idle\n",
    "\n",
    "OUTPUT:\n",
    "\n",
    "\n",
    "C:\\FAST_TRACT_COURSE\\Fareen_201046038_Sample_3\\Fareen_201046038_Sample_3_soln>most-recent-file.py \n",
    "\n",
    "C:\\FAST_TRACT_COURSE\\Fareen_201046038_Sample_3\\Fareen_201046038_Sample_3_soln\n",
    "C:\\FAST_TRACT_COURSE\\Fareen_201046038_Sample_3\\Fareen_201046038_Sample_3_soln output.txt"
   ]
  },
  {
   "cell_type": "markdown",
   "metadata": {
    "id": "jV5ZyaPGkEfx"
   },
   "source": [
    "# 10. Write a program files-only.py to find only file and not sub directories. Pass directory name as command line argument. \n",
    "\n",
    "#done using python idle\n",
    "\n",
    "OUTPUT:\n",
    "\n",
    "C:\\FAST_TRACT_COURSE\\Fareen_201046038_Sample_3\\Fareen_201046038_Sample_3_soln>files-only.py\n",
    "\n",
    "Enter folder path\n",
    "C:\\FAST_TRACT_COURSE\\Fareen_201046038_Sample_3\\Fareen_201046038_Sample_3_soln\n",
    "\n",
    "['cat.csv', 'cat.py', 'cat.txt', 'copyfile.py', 'Fareen_201046038_Sample_3.ipynb', 'Fareen_201046038_Sample_3_(Ques_13_14_15_solved_here).rar', 'files-only.py', 'find-matching-files.py', 'grep.py', 'grep.txt', 'head.py', 'head.txt', 'input.txt', 'Is.py', 'large-files.py', 'largest-file.py', 'most-recent-file.py', 'output.txt', 'sumfile.py', 'sumfile.txt', 'wc.py']\n"
   ]
  },
  {
   "cell_type": "markdown",
   "metadata": {
    "id": "4fv2bkOqkM-G"
   },
   "source": [
    "# 11. Write a program find-matching-files.py to find files recursively in a directory tree matching given wildcard pattern. \n",
    "#The program should accept the directory and the pattern as command-line argument. \n",
    " \n",
    "#done using python idle\n",
    "\n",
    "OUTPUT:\n",
    "\n",
    "\n",
    "C:\\FAST_TRACT_COURSE\\Fareen_201046038_Sample_3\\Fareen_201046038_Sample_3_soln>find-matching-files.py\n",
    "\n",
    "Enter folder path:\n",
    "C:\\FAST_TRACT_COURSE\\Fareen_201046038_Sample_3\\Fareen_201046038_Sample_3_soln\n",
    "\n",
    "Enter the wildcard pattern:\n",
    "ca\n",
    "\n",
    "\n",
    "cat.csv\n",
    "cat.py\n",
    "cat.txt\n"
   ]
  },
  {
   "cell_type": "markdown",
   "metadata": {
    "id": "WMqXzHcAkS0v"
   },
   "source": [
    "# 12. Write a program large-files.py to find files recursively in a directory tree that are larger than given size. \n",
    "# The program should accept the directory and the size as command-line argument. \n",
    "# The size can be also be specified with K, M and G suffix for KB, MB and GB respectively. \n",
    "\n",
    "#done with python idle\n",
    "\n",
    "OUTPUT:\n",
    "\n",
    "C:\\FAST_TRACT_COURSE\\Fareen_201046038_Sample_3\\Fareen_201046038_Sample_3_soln>large-files.py\n",
    "\n",
    "Enter folder path:\n",
    "C:\\FAST_TRACT_COURSE\\Fareen_201046038_Sample_3\\Fareen_201046038_Sample_3_soln\n",
    "\n",
    "Enter the size:\n",
    "0\n",
    "\n",
    "Enter 'M' if the size is in MB,'G' if the size is in GB, 'K' if the size is in KB\n",
    "k\n",
    "\n",
    "cat.csv\n",
    "\n",
    "Size: 98\n",
    "\n",
    "cat.py\n",
    "\n",
    "Size: 188\n",
    "\n",
    "cat.txt\n",
    "\n",
    "Size: 100\n",
    "\n",
    "copyfile.py\n",
    "\n",
    "Size: 308\n",
    "\n",
    "Fareen_201046038_Sample_3.ipynb\n",
    "\n",
    "Size: 8516\n",
    "\n",
    "Fareen_201046038_Sample_3_(Ques_13_14_15_solved_here).rar\n",
    "\n",
    "Size: 1945\n",
    "\n",
    "files-only.py\n",
    "\n",
    "Size: 194\n",
    "\n",
    "find-matching-files.py\n",
    "\n",
    "Size: 331\n",
    "\n",
    "grep.py\n",
    "\n",
    "Size: 252\n",
    "\n",
    "grep.txt\n",
    "\n",
    "Size: 59\n",
    "\n",
    "head.py\n",
    "\n",
    "Size: 209\n",
    "\n",
    "head.txt\n",
    "\n",
    "Size: 91\n",
    "\n",
    "input.txt\n",
    "\n",
    "Size: 91\n",
    "\n",
    "Is.py\n",
    "\n",
    "Size: 217\n",
    "\n",
    "large-files.py\n",
    "\n",
    "Size: 890\n",
    "\n",
    "largest-file.py\n",
    "\n",
    "Size: 697\n",
    "\n",
    "most-recent-file.py\n",
    "\n",
    "Size: 490\n",
    "\n",
    "output.txt\n",
    "\n",
    "Size: 91\n",
    "\n",
    "sumfile.py\n",
    "\n",
    "Size: 291\n",
    "\n",
    "sumfile.txt\n",
    "\n",
    "Size: 18\n",
    "\n",
    "wc.py\n",
    "\n",
    "Size: 454\n"
   ]
  },
  {
   "cell_type": "code",
   "execution_count": 4,
   "metadata": {
    "colab": {
     "base_uri": "https://localhost:8080/",
     "height": 34
    },
    "id": "SR6t_PakkZ8J",
    "outputId": "a98a9ab5-f425-4104-9e9f-4f105bfd8985"
   },
   "outputs": [
    {
     "name": "stdout",
     "output_type": "stream",
     "text": [
      "[1, 2, 3, 4, 5]\n"
     ]
    }
   ],
   "source": [
    "#13. Write a function unique to find all the unique elements of a list. \n",
    "\n",
    "def unique(list):\n",
    "  l=[]\n",
    "  for a in list:\n",
    "    if a not in l:\n",
    "      l.append(a)\n",
    "  print(l)\n",
    "\n",
    "unique([1,1,1,2,1,1,3,3,4,5])\n"
   ]
  },
  {
   "cell_type": "code",
   "execution_count": 5,
   "metadata": {
    "colab": {
     "base_uri": "https://localhost:8080/",
     "height": 34
    },
    "id": "9zfE7SYRkfph",
    "outputId": "d8150314-5212-4d07-a473-f6d888c78688"
   },
   "outputs": [
    {
     "name": "stdout",
     "output_type": "stream",
     "text": [
      "[1, 2, 3, 5, 6]\n"
     ]
    }
   ],
   "source": [
    "#14. Write a function dups to find all duplicates in the list.\n",
    "\n",
    "def dups(list): \n",
    "    l1 = len(list) \n",
    "    d1 = [] \n",
    "    for i in range(l1): \n",
    "        k = i + 1\n",
    "        for j in range(k, l1): \n",
    "            if list[i] == list[j] and list[i] not in d1: \n",
    "                d1.append(list[i]) \n",
    "    return d1\n",
    "print(dups([1,1,1,2,2,1,1,3,3,4,5,6,5,6,7,8,9]))"
   ]
  },
  {
   "cell_type": "code",
   "execution_count": 6,
   "metadata": {
    "colab": {
     "base_uri": "https://localhost:8080/",
     "height": 34
    },
    "id": "ZWLRYPQgkkUS",
    "outputId": "9655fc8e-b8b8-4226-bfb1-232a6ed90b1c"
   },
   "outputs": [
    {
     "name": "stdout",
     "output_type": "stream",
     "text": [
      "[1, 2, 3, 12, 11]\n"
     ]
    }
   ],
   "source": [
    "#15. Write a function group(list, size) that take a list and splits into smaller lists of given size. \n",
    "\n",
    "def group(list,size):\n",
    "    l2 = []\n",
    "    for i in range(size):\n",
    "      l2.append(list[i])\n",
    "    return l2\n",
    "print(group([1,2,3,12,11,22,35,44,5,6,79],5))"
   ]
  },
  {
   "cell_type": "code",
   "execution_count": null,
   "metadata": {},
   "outputs": [],
   "source": []
  }
 ],
 "metadata": {
  "colab": {
   "collapsed_sections": [],
   "name": "Fareen_201046038_Sample_3.ipynb",
   "provenance": []
  },
  "kernelspec": {
   "display_name": "Python 3",
   "language": "python",
   "name": "python3"
  },
  "language_info": {
   "codemirror_mode": {
    "name": "ipython",
    "version": 3
   },
   "file_extension": ".py",
   "mimetype": "text/x-python",
   "name": "python",
   "nbconvert_exporter": "python",
   "pygments_lexer": "ipython3",
   "version": "3.8.5"
  }
 },
 "nbformat": 4,
 "nbformat_minor": 1
}
