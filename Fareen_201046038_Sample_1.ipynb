{
 "cells": [
  {
   "cell_type": "code",
   "execution_count": 1,
   "metadata": {
    "colab": {
     "base_uri": "https://localhost:8080/"
    },
    "id": "Q31QdAm0PGRE",
    "outputId": "d009b855-6e98-44bb-8669-d9504085d4e9"
   },
   "outputs": [
    {
     "name": "stdout",
     "output_type": "stream",
     "text": [
      "2\n",
      "10\n"
     ]
    }
   ],
   "source": [
    "#1.Python Program to Exchange the Values of Two Numbers Without Using a Temporary Variable.\n",
    "a=10\n",
    "b=2\n",
    "a=a+b\n",
    "b=a-b\n",
    "a=a-b\n",
    "\n",
    "print(a)\n",
    "print(b)"
   ]
  },
  {
   "cell_type": "code",
   "execution_count": 2,
   "metadata": {
    "colab": {
     "base_uri": "https://localhost:8080/"
    },
    "id": "osHI_vb1PWGd",
    "outputId": "2937ff82-3253-4cf0-834d-1ea894db4a5a"
   },
   "outputs": [
    {
     "name": "stdout",
     "output_type": "stream",
     "text": [
      "Enter a number: 2\n",
      "The number is Positive\n"
     ]
    }
   ],
   "source": [
    "#2.Python Program to Check Whether a Number is Positive or Negative.\n",
    "a=int(input(\"Enter a number: \"))\n",
    "if(a<0):\n",
    "    print(\"The number is negative\")\n",
    "elif(a>0):\n",
    "    print(\"The number is Positive\")\n",
    "else:\n",
    "    print(\"The number is zero\")"
   ]
  },
  {
   "cell_type": "code",
   "execution_count": 3,
   "metadata": {
    "colab": {
     "base_uri": "https://localhost:8080/"
    },
    "id": "bcPYT3GVPgN8",
    "outputId": "c63ad23f-d622-438c-df76-6a7df386e17d"
   },
   "outputs": [
    {
     "name": "stdout",
     "output_type": "stream",
     "text": [
      "4\n",
      "8\n",
      "12\n",
      "16\n",
      "20\n"
     ]
    }
   ],
   "source": [
    "#3.Python Program to Print all Numbers in a Range Divisible by a Given Number. \n",
    "#if range is from 1 to 20 and number is 4, then the result should be 4, 8, 12, 16 and 20.\n",
    "\n",
    "a=range(1,20)\n",
    "b=4\n",
    "for i in range(1,20):\n",
    "    n=4*i\n",
    "    if((n)<=20):\n",
    "        print(n)"
   ]
  },
  {
   "cell_type": "code",
   "execution_count": 4,
   "metadata": {
    "colab": {
     "base_uri": "https://localhost:8080/"
    },
    "id": "U2XfBllvPn4B",
    "outputId": "b8dcd349-77aa-4d1e-cccf-3f43215a853d"
   },
   "outputs": [
    {
     "name": "stdout",
     "output_type": "stream",
     "text": [
      "Enter first number: 1\n",
      "Enter second number: 3\n",
      "Quotient is  0\n",
      "Reminder is  1\n"
     ]
    }
   ],
   "source": [
    "#4.Python Program to Read Two Numbers and Print Their Quotient and Remainder.\n",
    "n1=int(input(\"Enter first number: \"))\n",
    "n2=int(input(\"Enter second number: \"))\n",
    "q=n1//n2\n",
    "r=n1%n2\n",
    "print(\"Quotient is \",q)\n",
    "print(\"Reminder is \",r)"
   ]
  },
  {
   "cell_type": "code",
   "execution_count": null,
   "metadata": {
    "colab": {
     "base_uri": "https://localhost:8080/"
    },
    "id": "CjmGngbvPuf-",
    "outputId": "4151fba2-7f1c-40f9-8b50-08e683066663"
   },
   "outputs": [],
   "source": [
    "#5.Python Program to Print Odd Numbers Within a Given Range.\n",
    "\n",
    "n1=int(input(\"Enter the first number: \"))\n",
    "n2=int(input(\"Enter the second number: \"))\n",
    "print(\"The odd numbers are: \")\n",
    "for i in range(n1,n2+1):\n",
    "    if(i%2!=0):\n",
    "        print(i, end=\" \")"
   ]
  },
  {
   "cell_type": "code",
   "execution_count": null,
   "metadata": {
    "colab": {
     "base_uri": "https://localhost:8080/"
    },
    "id": "rXl7kjBiP2t_",
    "outputId": "4d22b523-0078-4412-b44f-298a01c59d09"
   },
   "outputs": [],
   "source": [
    "#6.Python Program to Find the Sum of Digits in a Number.\n",
    "n=input(\"enter a number: \")\n",
    "sum=0\n",
    "for i in n:\n",
    "  sum=sum+int(i)\n",
    "print(sum)"
   ]
  },
  {
   "cell_type": "code",
   "execution_count": null,
   "metadata": {
    "colab": {
     "base_uri": "https://localhost:8080/"
    },
    "id": "DKHre7KYQN4L",
    "outputId": "cf8cb205-eee8-4dbf-ebff-ce8e8cfdc6df"
   },
   "outputs": [],
   "source": [
    "#7.Python Program to Find the Smallest Divisor of an Integer.\n",
    "n=int(input(\"enter a number: \"))\n",
    "l=[]\n",
    "for x in range(2,n+1):\n",
    "  if (n%x==0):\n",
    "    l.append(x)\n",
    "  l.sort()\n",
    "print(\"The smallest divisor is: \",l[0])"
   ]
  },
  {
   "cell_type": "code",
   "execution_count": null,
   "metadata": {
    "colab": {
     "base_uri": "https://localhost:8080/"
    },
    "id": "yuB98DIASDVn",
    "outputId": "95991bb3-db5f-49a7-f184-7af2318f281d"
   },
   "outputs": [
    {
     "name": "stdout",
     "output_type": "stream",
     "text": [
      "Enter a number: 1\n",
      "123\n"
     ]
    }
   ],
   "source": [
    "#8. Python Program to Read a number n and Compute n+nn+nnn. \n",
    "n=int(input(\"Enter a number: \"))\n",
    "s=int(n)+int(n*10+n)+int(n*100+n*10+n)\n",
    "print(s)"
   ]
  },
  {
   "cell_type": "code",
   "execution_count": null,
   "metadata": {
    "colab": {
     "base_uri": "https://localhost:8080/"
    },
    "id": "DpSoDGPQSEv6",
    "outputId": "76d0cab8-6b00-4bff-954e-84732996cd99"
   },
   "outputs": [
    {
     "name": "stdout",
     "output_type": "stream",
     "text": [
      "Enter a number: 1234\n",
      "The reversed number is:  4321\n"
     ]
    }
   ],
   "source": [
    "#9.Python Program to Reverse a Given Number. \n",
    "n=int(input(\"Enter a number: \"))\n",
    "rev=0\n",
    "while (n>0):\n",
    "  r=n%10\n",
    "  rev=(rev*10)+r\n",
    "  n=n//10\n",
    "print(\"The reversed number is: \",rev)\n"
   ]
  },
  {
   "cell_type": "code",
   "execution_count": null,
   "metadata": {
    "colab": {
     "base_uri": "https://localhost:8080/"
    },
    "id": "lTa-stHZSPDk",
    "outputId": "df68b28d-3cd3-4916-fc54-77d6be735b13"
   },
   "outputs": [
    {
     "name": "stdout",
     "output_type": "stream",
     "text": [
      "Enter numbers for the list seperated by space: 1 2 3 4\n",
      "2.5\n"
     ]
    }
   ],
   "source": [
    "#10. Python Program to Calculate the Average of Numbers in a Given List. \n",
    "l1=input(\"Enter numbers for the list seperated by space: \")\n",
    "l1=l1.split(\" \")\n",
    "sum=0\n",
    "a=len(l1)\n",
    "for n in l1:\n",
    "  sum=sum+int(n)\n",
    "print(sum/a)\n",
    "\n"
   ]
  },
  {
   "cell_type": "code",
   "execution_count": null,
   "metadata": {
    "colab": {
     "base_uri": "https://localhost:8080/"
    },
    "id": "3lwS9Gl5STDK",
    "outputId": "504cc0b0-8a9f-4166-b05b-927d3f3ff2b4"
   },
   "outputs": [
    {
     "name": "stdout",
     "output_type": "stream",
     "text": [
      "Enter a number: 1234567890\n",
      "The total number of digits:  10\n"
     ]
    }
   ],
   "source": [
    "#11. Python Program to Count the Number of Digits in a Number. \n",
    "n=int(input(\"Enter a number: \"))\n",
    "count=0\n",
    "while (n>0):\n",
    "  n=n//10\n",
    "  count=count+1\n",
    "print(\"The total number of digits: \",count)"
   ]
  },
  {
   "cell_type": "code",
   "execution_count": null,
   "metadata": {
    "colab": {
     "base_uri": "https://localhost:8080/"
    },
    "id": "jhmU45YJSX8C",
    "outputId": "3ca0d4a1-6dd0-419b-d10a-091a66bf2602"
   },
   "outputs": [
    {
     "name": "stdout",
     "output_type": "stream",
     "text": [
      "Enter a number: 1234\n",
      "Not palindrome!\n"
     ]
    }
   ],
   "source": [
    "#12. Python Program to Check if a Number is a Palindrome. \n",
    "n=int(input(\"Enter a number: \"))\n",
    "n1=n\n",
    "rev=0\n",
    "while (n>0):\n",
    "  r=n%10\n",
    "  rev=(rev*10)+r\n",
    "  n=n//10\n",
    "if (rev==n1):\n",
    "  print(\"The given number is palidrome!!\")\n",
    "else:\n",
    "  print(\"Not palindrome!\")\n"
   ]
  },
  {
   "cell_type": "code",
   "execution_count": null,
   "metadata": {
    "colab": {
     "base_uri": "https://localhost:8080/"
    },
    "id": "KmkV0RkzSdhX",
    "outputId": "4145f3e5-6b40-4315-87cc-8f7f0576340f"
   },
   "outputs": [
    {
     "name": "stdout",
     "output_type": "stream",
     "text": [
      "Enter a string: hello.. help help hello\n",
      "Enter a sub-string: hello\n",
      "2\n"
     ]
    }
   ],
   "source": [
    "#13. Python Program to print the number of occurrence of a sub string in a given string. \n",
    "s1=input(\"Enter a string: \")\n",
    "sub=input(\"Enter a sub-string: \")\n",
    "print(s1.count(sub))\n"
   ]
  },
  {
   "cell_type": "code",
   "execution_count": null,
   "metadata": {
    "colab": {
     "base_uri": "https://localhost:8080/"
    },
    "id": "iYjo-Y4vShOS",
    "outputId": "78e49211-efbf-4881-b1cb-cfaa5dd6a363"
   },
   "outputs": [
    {
     "name": "stdout",
     "output_type": "stream",
     "text": [
      "Enter a string: hi name is abc\n",
      "Enter a sub-string: name\n",
      "3\n"
     ]
    }
   ],
   "source": [
    "#14. Python program to print the lowest index in the string where substring sub is found within the string. \n",
    "s1=input(\"Enter a string: \")\n",
    "sub=input(\"Enter a sub-string: \")\n",
    "print(s1.index(sub))"
   ]
  },
  {
   "cell_type": "code",
   "execution_count": null,
   "metadata": {
    "colab": {
     "base_uri": "https://localhost:8080/"
    },
    "id": "WjDqw7tOSmOk",
    "outputId": "d688c3a5-1303-4520-bca3-11e3ddaf26f2"
   },
   "outputs": [
    {
     "name": "stdout",
     "output_type": "stream",
     "text": [
      "Enter a string: fareenshaik\n"
     ]
    },
    {
     "data": {
      "text/plain": [
       "True"
      ]
     },
     "execution_count": 43,
     "metadata": {
      "tags": []
     },
     "output_type": "execute_result"
    }
   ],
   "source": [
    "#15. Python Program to return true if all characters in the string are \n",
    "#alphabetic and there is at least one other character, False. \n",
    "s1=input(\"Enter a string: \")\n",
    "s1.isalpha()\n",
    "\n",
    "\n"
   ]
  },
  {
   "cell_type": "code",
   "execution_count": null,
   "metadata": {
    "colab": {
     "base_uri": "https://localhost:8080/"
    },
    "id": "tC8hC1IwSu26",
    "outputId": "127960aa-a8f5-4050-f0f9-5829e0cd0da6"
   },
   "outputs": [
    {
     "name": "stdout",
     "output_type": "stream",
     "text": [
      "Enter a string: an ant an\n",
      "After replacing:  $n $nt $n\n"
     ]
    }
   ],
   "source": [
    "#16. Python Program to Replace all Occurrences of ‘a’ with $ in a String. \n",
    "s1=input(\"Enter a string: \")\n",
    "for n in s1:\n",
    "  if (n=='a'):\n",
    "    s1=s1.replace('a','$')\n",
    "print(\"After replacing: \",s1)"
   ]
  },
  {
   "cell_type": "code",
   "execution_count": null,
   "metadata": {
    "colab": {
     "base_uri": "https://localhost:8080/"
    },
    "id": "ZKtY9JwMS0H3",
    "outputId": "eca971cb-5b52-4819-becc-c77486bc7fba"
   },
   "outputs": [
    {
     "name": "stdout",
     "output_type": "stream",
     "text": [
      "Enter a string: apple aie ahdyd\n",
      "Total number of vowels:  6\n"
     ]
    }
   ],
   "source": [
    "#17. Python Program to Count the Number of Vowels in a String. \n",
    "s1=input(\"Enter a string: \")\n",
    "c=0\n",
    "for n in s1:\n",
    "  if (n=='a' or n=='e' or n=='i' or n=='o' or n=='u'):\n",
    "    c+=1\n",
    "print(\"Total number of vowels: \",c)"
   ]
  },
  {
   "cell_type": "code",
   "execution_count": null,
   "metadata": {
    "colab": {
     "base_uri": "https://localhost:8080/"
    },
    "id": "C-voQxADS3tC",
    "outputId": "21e59de5-79a2-45b2-dab4-9b8347ba8cee"
   },
   "outputs": [
    {
     "name": "stdout",
     "output_type": "stream",
     "text": [
      "Enter a string: an anna anna\n",
      "After replacing:  an-anna-anna\n"
     ]
    }
   ],
   "source": [
    "#18. Python Program to Take in a String and Replace Every Blank Space with Hyphen. \n",
    "s1=input(\"Enter a string: \")\n",
    "for n in s1:\n",
    "  if (n=='a'):\n",
    "    s1=s1.replace(' ','-')\n",
    "print(\"After replacing: \",s1)"
   ]
  },
  {
   "cell_type": "code",
   "execution_count": null,
   "metadata": {
    "colab": {
     "base_uri": "https://localhost:8080/"
    },
    "id": "awBNFXF5S75v",
    "outputId": "49a54612-3b53-48d0-a44d-62f7d829992b"
   },
   "outputs": [
    {
     "name": "stdout",
     "output_type": "stream",
     "text": [
      "Enter a word: Fareen\n",
      "6\n"
     ]
    }
   ],
   "source": [
    "#19. Python Program to find the length of string without using any built-in functions. \n",
    "\n",
    "s=input(\"Enter a string: \")\n",
    "count=0\n",
    "for n in s:\n",
    "  count=count+1\n",
    "print(count)"
   ]
  },
  {
   "cell_type": "code",
   "execution_count": null,
   "metadata": {
    "colab": {
     "base_uri": "https://localhost:8080/"
    },
    "id": "EA_P1HB2TT4A",
    "outputId": "d51189de-9a8c-4ebf-99ad-d66855bc7060"
   },
   "outputs": [
    {
     "name": "stdout",
     "output_type": "stream",
     "text": [
      "Enter the first string: Fardeeb\n",
      "Enter the second string: Fareen\n",
      "The string1 is larger:  Fardeeb\n"
     ]
    }
   ],
   "source": [
    "#20. Python Program to Take in Two Strings and Display the Larger String without Using Built-in Functions. \n",
    "\n",
    "s1=input(\"Enter the first string: \")\n",
    "s2=input(\"Enter the second string: \")\n",
    "count1=0\n",
    "count2=0\n",
    "for n1 in s1:\n",
    "  count1+=1\n",
    "for n2 in s2:\n",
    "  count2+=1\n",
    "if (count1>count2):\n",
    "  print(\"The string1 is larger: \",s1)\n",
    "elif (count1==count2):\n",
    "  print(\"Both the string is of same length\")\n",
    "  print(s1)\n",
    "  print(s2)\n",
    "else:\n",
    "  print(\"The string2 is larger: \",s2)\n"
   ]
  },
  {
   "cell_type": "code",
   "execution_count": null,
   "metadata": {
    "colab": {
     "base_uri": "https://localhost:8080/"
    },
    "id": "99LWk8frUmzj",
    "outputId": "d505cd8b-39a2-41fc-9e09-a3dbccbd428c"
   },
   "outputs": [
    {
     "name": "stdout",
     "output_type": "stream",
     "text": [
      "Enter the string(Word): Fareen\n",
      "The Upper_case letters are:  1\n",
      "The lower_case letters are:  5\n"
     ]
    }
   ],
   "source": [
    "#21. Python Program to Calculate the Number of Upper Case Letters and Lower Case Letters in a String. \n",
    "s1=input(\"Enter the string(Word): \")\n",
    "up=0\n",
    "low=0\n",
    "for n in s1:\n",
    "  if (n.isupper()):\n",
    "    up+=1\n",
    "  elif (n.islower()):\n",
    "    low+=1\n",
    "print(\"The Upper_case letters are: \",up)\n",
    "print(\"The lower_case letters are: \",low)\n"
   ]
  },
  {
   "cell_type": "code",
   "execution_count": null,
   "metadata": {
    "colab": {
     "base_uri": "https://localhost:8080/"
    },
    "id": "z8aX1VKPWxXJ",
    "outputId": "2e09b95a-e4b0-4b67-af6b-c674df508f67"
   },
   "outputs": [
    {
     "name": "stdout",
     "output_type": "stream",
     "text": [
      "Enter a string: Fareen1234\n",
      "The total number of digits are:  4\n",
      "The total number of letters are:  6\n"
     ]
    }
   ],
   "source": [
    "#22. Python Program to Calculate the Number of Digits and Letters in a String. \n",
    "s1=input(\"Enter a string: \")\n",
    "l=0\n",
    "d=0\n",
    "for n in s1:\n",
    "  if (n.isdigit()):\n",
    "    d+=1\n",
    "  else:\n",
    "    l+=1\n",
    "print(\"The total number of digits are: \",d)\n",
    "print(\"The total number of letters are: \",l)\n",
    "    "
   ]
  },
  {
   "cell_type": "code",
   "execution_count": null,
   "metadata": {
    "colab": {
     "base_uri": "https://localhost:8080/"
    },
    "id": "3DKLK_g4YNOk",
    "outputId": "5067ff7a-80b0-4ef8-e66b-37f54deced6f"
   },
   "outputs": [
    {
     "name": "stdout",
     "output_type": "stream",
     "text": [
      "Enter a string: he hello hi\n",
      "Enter a sub_string: hmm\n",
      "Sub string is not present in the string!!(Full pattern is present in the given sentence\n"
     ]
    }
   ],
   "source": [
    "#23. Python Program to check whether a full pattern (not sub string) is present in the given sentence. \n",
    "s1=input(\"Enter a string: \")\n",
    "sub=input(\"Enter a sub_string: \")\n",
    "s=s1.find(sub)\n",
    "if (s==-1):\n",
    "  print(\"Sub string is not present in the string!!(Full pattern is present in the given sentence\")\n",
    "else:\n",
    "  print(\"Sub string is present in the string!!\")"
   ]
  },
  {
   "cell_type": "code",
   "execution_count": null,
   "metadata": {
    "colab": {
     "base_uri": "https://localhost:8080/"
    },
    "id": "YN8jUX5Abc0v",
    "outputId": "f0ae4c7b-5b0d-43ca-a88e-6907d021c63b"
   },
   "outputs": [
    {
     "name": "stdout",
     "output_type": "stream",
     "text": [
      "[1, 3, 6, 10]\n"
     ]
    }
   ],
   "source": [
    "#24. Cumulative sum of a list [1, 2, 4, …] is defined as  [1, 3, 7, . . .] \n",
    "#Write a function cumulative_sum() to compute cumulative sum of a list \n",
    "\n",
    "def cumulative_sum(list):\n",
    "  cu_list = [] \n",
    "  length = len(list) \n",
    "  cu_list = [sum(list[0:x:1]) for x in range(0, length+1)] \n",
    "  return cu_list[1:]\n",
    " \n",
    "\n",
    "\n",
    "print(cumulative_sum([1,2,3,4])) \n",
    "\n",
    "\n"
   ]
  },
  {
   "cell_type": "code",
   "execution_count": null,
   "metadata": {
    "colab": {
     "base_uri": "https://localhost:8080/"
    },
    "id": "Odgu97mofEeX",
    "outputId": "5b465da9-66e4-4ae6-cf0b-6f85f8d57a9d"
   },
   "outputs": [
    {
     "name": "stdout",
     "output_type": "stream",
     "text": [
      "Enter the starting range value: 1\n",
      "Enter the ending range vaue: 40\n",
      "[31, 35, 4, 5, 13, 37, 3, 24, 1, 15]\n"
     ]
    }
   ],
   "source": [
    "#25. Write a program to generate 10 random integers. \n",
    "import random\n",
    "s=int(input(\"Enter the starting range value: \"))\n",
    "l=int(input(\"Enter the ending range vaue: \"))\n",
    "random_list = random.sample(range(s, l), 10)\n",
    "print(random_list)\n"
   ]
  },
  {
   "cell_type": "code",
   "execution_count": null,
   "metadata": {
    "colab": {
     "base_uri": "https://localhost:8080/"
    },
    "id": "u-mk5VUIcwED",
    "outputId": "5e1baee8-5b4e-486d-fe66-2081ab415910"
   },
   "outputs": [
    {
     "name": "stdout",
     "output_type": "stream",
     "text": [
      "[20, 3, 9, 5, 2, 7, 16, 11, 4, 19]\n"
     ]
    }
   ],
   "source": [
    "#26. Write a program to generate 10 random integers between 1 to 20 (both inclusive). \n",
    "\n",
    "import random\n",
    "random_list = random.sample(range(1, 21), 10)\n",
    "print(random_list)\n",
    "\n"
   ]
  },
  {
   "cell_type": "code",
   "execution_count": null,
   "metadata": {
    "colab": {
     "base_uri": "https://localhost:8080/"
    },
    "id": "8s5PvJqjg3_t",
    "outputId": "8175902a-8545-4f3f-f2de-d4f8d3262ff8"
   },
   "outputs": [
    {
     "name": "stdout",
     "output_type": "stream",
     "text": [
      "[9, 15, 16, 6, 5]\n"
     ]
    }
   ],
   "source": [
    "#27. Write a program to generate 5 random integers between 1 to 20 such that numbers should be unique. \n",
    "\n",
    "import random\n",
    "random_list = random.sample(range(1, 21), 5)\n",
    "print(random_list)"
   ]
  },
  {
   "cell_type": "code",
   "execution_count": null,
   "metadata": {
    "colab": {
     "base_uri": "https://localhost:8080/"
    },
    "id": "iy2H-BKzh50s",
    "outputId": "c2a555d2-631e-40f3-f948-e1c127450d30"
   },
   "outputs": [
    {
     "name": "stdout",
     "output_type": "stream",
     "text": [
      "[[9], [17], [26], [35], [48], [53], [61], [78], [82], [93]]\n"
     ]
    }
   ],
   "source": [
    "#28. Write a program to generate 10 random numbers between 1 to 100 such that \n",
    "#there should one number between 1 to 10 one number between 11 to 20 etc. \n",
    "import random\n",
    "random_list=[]\n",
    "random_list.append(random.sample(range(1, 11), 1))\n",
    "random_list.append(random.sample(range(11, 21), 1))\n",
    "random_list.append(random.sample(range(21, 31), 1))\n",
    "random_list.append(random.sample(range(31, 41), 1))\n",
    "random_list.append(random.sample(range(41, 51), 1))\n",
    "random_list.append(random.sample(range(51, 61), 1))\n",
    "random_list.append(random.sample(range(61, 71), 1))\n",
    "random_list.append(random.sample(range(71, 81), 1))\n",
    "random_list.append(random.sample(range(81, 91), 1))\n",
    "random_list.append(random.sample(range(91, 101), 1))\n",
    "print(random_list)\n"
   ]
  },
  {
   "cell_type": "code",
   "execution_count": null,
   "metadata": {
    "id": "OznIDQQdi7jU"
   },
   "outputs": [],
   "source": []
  }
 ],
 "metadata": {
  "colab": {
   "collapsed_sections": [],
   "name": "Fareen_201046038_Sample_1.ipynb",
   "provenance": []
  },
  "kernelspec": {
   "display_name": "Python 3",
   "language": "python",
   "name": "python3"
  },
  "language_info": {
   "codemirror_mode": {
    "name": "ipython",
    "version": 3
   },
   "file_extension": ".py",
   "mimetype": "text/x-python",
   "name": "python",
   "nbconvert_exporter": "python",
   "pygments_lexer": "ipython3",
   "version": "3.8.5"
  }
 },
 "nbformat": 4,
 "nbformat_minor": 1
}
